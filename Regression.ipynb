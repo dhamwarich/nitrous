{
  "nbformat": 4,
  "nbformat_minor": 0,
  "metadata": {
    "colab": {
      "provenance": [],
      "toc_visible": true,
      "authorship_tag": "ABX9TyOvGogRrQNP0Cdz0sTqB0k0",
      "include_colab_link": true
    },
    "kernelspec": {
      "name": "python3",
      "display_name": "Python 3"
    },
    "language_info": {
      "name": "python"
    }
  },
  "cells": [
    {
      "cell_type": "markdown",
      "metadata": {
        "id": "view-in-github",
        "colab_type": "text"
      },
      "source": [
        "<a href=\"https://colab.research.google.com/github/dhamwarich/nitrous.digital/blob/main/Regression.ipynb\" target=\"_parent\"><img src=\"https://colab.research.google.com/assets/colab-badge.svg\" alt=\"Open In Colab\"/></a>"
      ]
    },
    {
      "cell_type": "code",
      "execution_count": 7,
      "metadata": {
        "colab": {
          "base_uri": "https://localhost:8080/",
          "height": 1000
        },
        "id": "bzZRZoRs2pwa",
        "outputId": "7a289031-eb98-4338-dab9-d3687d9d3269"
      },
      "outputs": [
        {
          "output_type": "stream",
          "name": "stdout",
          "text": [
            "Shape of the dataset: (506, 14)\n",
            "\n",
            "First few rows:\n",
            "         0     1     2   3      4      5     6       7   8      9     10  \\\n",
            "0  0.00632  18.0  2.31   0  0.538  6.575  65.2  4.0900   1  296.0  15.3   \n",
            "1  0.02731   0.0  7.07   0  0.469  6.421  78.9  4.9671   2  242.0  17.8   \n",
            "2  0.02729   0.0  7.07   0  0.469  7.185  61.1  4.9671   2  242.0  17.8   \n",
            "3  0.03237   0.0  2.18   0  0.458  6.998  45.8  6.0622   3  222.0  18.7   \n",
            "4  0.06905   0.0  2.18   0  0.458  7.147  54.2  6.0622   3  222.0  18.7   \n",
            "\n",
            "       11    12    13  \n",
            "0  396.90  4.98  24.0  \n",
            "1  396.90  9.14  21.6  \n",
            "2  392.83  4.03  34.7  \n",
            "3  394.63  2.94  33.4  \n",
            "4  396.90  5.33  36.2  \n",
            "\n",
            "Summary statistics:\n",
            "                0           1           2           3           4           5   \\\n",
            "count  506.000000  506.000000  506.000000  506.000000  506.000000  506.000000   \n",
            "mean     3.613524   11.363636   11.136779    0.069170    0.554695    6.284634   \n",
            "std      8.601545   23.322453    6.860353    0.253994    0.115878    0.702617   \n",
            "min      0.006320    0.000000    0.460000    0.000000    0.385000    3.561000   \n",
            "25%      0.082045    0.000000    5.190000    0.000000    0.449000    5.885500   \n",
            "50%      0.256510    0.000000    9.690000    0.000000    0.538000    6.208500   \n",
            "75%      3.677083   12.500000   18.100000    0.000000    0.624000    6.623500   \n",
            "max     88.976200  100.000000   27.740000    1.000000    0.871000    8.780000   \n",
            "\n",
            "               6           7           8           9           10          11  \\\n",
            "count  506.000000  506.000000  506.000000  506.000000  506.000000  506.000000   \n",
            "mean    68.574901    3.795043    9.549407  408.237154   18.455534  356.674032   \n",
            "std     28.148861    2.105710    8.707259  168.537116    2.164946   91.294864   \n",
            "min      2.900000    1.129600    1.000000  187.000000   12.600000    0.320000   \n",
            "25%     45.025000    2.100175    4.000000  279.000000   17.400000  375.377500   \n",
            "50%     77.500000    3.207450    5.000000  330.000000   19.050000  391.440000   \n",
            "75%     94.075000    5.188425   24.000000  666.000000   20.200000  396.225000   \n",
            "max    100.000000   12.126500   24.000000  711.000000   22.000000  396.900000   \n",
            "\n",
            "               12          13  \n",
            "count  506.000000  506.000000  \n",
            "mean    12.653063   22.532806  \n",
            "std      7.141062    9.197104  \n",
            "min      1.730000    5.000000  \n",
            "25%      6.950000   17.025000  \n",
            "50%     11.360000   21.200000  \n",
            "75%     16.955000   25.000000  \n",
            "max     37.970000   50.000000  \n",
            "\n",
            "Missing values:\n",
            " 0     0\n",
            "1     0\n",
            "2     0\n",
            "3     0\n",
            "4     0\n",
            "5     0\n",
            "6     0\n",
            "7     0\n",
            "8     0\n",
            "9     0\n",
            "10    0\n",
            "11    0\n",
            "12    0\n",
            "13    0\n",
            "dtype: int64\n"
          ]
        },
        {
          "output_type": "display_data",
          "data": {
            "text/plain": [
              "<Figure size 800x600 with 1 Axes>"
            ],
            "image/png": "[encoded data removed]"
          },
          "metadata": {}
        }
      ],
      "source": [
        "# Import necessary libraries\n",
        "import pandas as pd\n",
        "import matplotlib.pyplot as plt\n",
        "import seaborn as sns\n",
        "\n",
        "# Load the dataset\n",
        "housing_data = pd.read_csv(\"housing.csv\", header=None, sep=r'\\s+')\n",
        "\n",
        "# Check the shape of the dataset\n",
        "print(\"Shape of the dataset:\", housing_data.shape)\n",
        "\n",
        "# Display the first few rows\n",
        "print(\"\\nFirst few rows:\\n\", housing_data.head())\n",
        "\n",
        "# Get summary statistics\n",
        "print(\"\\nSummary statistics:\\n\", housing_data.describe())\n",
        "\n",
        "# Check for missing values\n",
        "print(\"\\nMissing values:\\n\", housing_data.isnull().sum())\n",
        "\n",
        "# Visualize the distribution of a numerical feature\n",
        "plt.figure(figsize=(8, 6))\n",
        "sns.histplot(data=housing_data, x=housing_data.columns[0], kde=True)\n",
        "plt.title(\"\\nDistribution of the First Feature\")\n",
        "plt.show()"
      ]
    },
    {
      "cell_type": "code",
      "source": [
        "# Import necessary libraries\n",
        "from sklearn.model_selection import train_test_split\n",
        "\n",
        "# Separate the target variable (assuming it's the last column)\n",
        "X = housing_data.iloc[:, :-1]  # Features\n",
        "y = housing_data.iloc[:, -1]   # Target variable\n",
        "\n",
        "# Split the dataset into training and testing sets\n",
        "X_train, X_test, y_train, y_test = train_test_split(X, y, test_size=0.2, random_state=42)\n",
        "\n",
        "# Print the shapes of the training and testing sets\n",
        "print(\"Shape of training set:\", X_train.shape, y_train.shape)\n",
        "print(\"Shape of testing set:\", X_test.shape, y_test.shape)"
      ],
      "metadata": {
        "colab": {
          "base_uri": "https://localhost:8080/"
        },
        "id": "GUNK0ZaN_GVb",
        "outputId": "330ac61f-4b3a-4bcb-8b6f-fc584cb0a787"
      },
      "execution_count": 8,
      "outputs": [
        {
          "output_type": "stream",
          "name": "stdout",
          "text": [
            "Shape of training set: (404, 13) (404,)\n",
            "Shape of testing set: (102, 13) (102,)\n"
          ]
        }
      ]
    },
    {
      "cell_type": "code",
      "source": [
        "# Import necessary libraries\n",
        "from sklearn.linear_model import LinearRegression\n",
        "from sklearn.ensemble import RandomForestRegressor\n",
        "from sklearn.metrics import mean_squared_error, r2_score\n",
        "\n",
        "# Create a linear regression model\n",
        "lr_model = LinearRegression()\n",
        "\n",
        "# Create a random forest regression model\n",
        "rf_model = RandomForestRegressor(n_estimators=100, random_state=42)\n",
        "\n",
        "# Train the linear regression model\n",
        "lr_model.fit(X_train, y_train)\n",
        "\n",
        "# Train the random forest regression model\n",
        "rf_model.fit(X_train, y_train)\n",
        "\n",
        "# Make predictions on the testing set\n",
        "y_pred_lr = lr_model.predict(X_test)\n",
        "y_pred_rf = rf_model.predict(X_test)\n",
        "\n",
        "# Evaluate the models\n",
        "print(\"Linear Regression Model:\")\n",
        "print(\"Mean Squared Error:\", mean_squared_error(y_test, y_pred_lr))\n",
        "print(\"R-squared:\", r2_score(y_test, y_pred_lr))\n",
        "\n",
        "print(\"\\nRandom Forest Regression Model:\")\n",
        "print(\"Mean Squared Error:\", mean_squared_error(y_test, y_pred_rf))\n",
        "print(\"R-squared:\", r2_score(y_test, y_pred_rf))"
      ],
      "metadata": {
        "colab": {
          "base_uri": "https://localhost:8080/"
        },
        "id": "mN0lxXVuBCte",
        "outputId": "676ba1c5-1b17-44cd-fcb8-4699d0b675df"
      },
      "execution_count": 9,
      "outputs": [
        {
          "output_type": "stream",
          "name": "stdout",
          "text": [
            "Linear Regression Model:\n",
            "Mean Squared Error: 24.291119474973478\n",
            "R-squared: 0.6687594935356326\n",
            "\n",
            "Random Forest Regression Model:\n",
            "Mean Squared Error: 7.901513892156864\n",
            "R-squared: 0.8922527442109116\n"
          ]
        }
      ]
    },
    {
      "cell_type": "code",
      "source": [
        "# Import necessary libraries\n",
        "import pandas as pd\n",
        "import matplotlib.pyplot as plt\n",
        "import numpy as np\n",
        "\n",
        "# Create a DataFrame to store the results\n",
        "results = pd.DataFrame({\n",
        "    'Model': ['Linear Regression', 'Random Forest Regression'],\n",
        "    'Mean Squared Error': [mean_squared_error(y_test, y_pred_lr), mean_squared_error(y_test, y_pred_rf)],\n",
        "    'R-squared': [r2_score(y_test, y_pred_lr), r2_score(y_test, y_pred_rf)]\n",
        "})\n",
        "\n",
        "# Print the results table\n",
        "print(\"Results:\")\n",
        "print(results)\n",
        "\n",
        "# Analyze feature importance for the Random Forest Regression model\n",
        "if hasattr(rf_model, 'feature_importances_'):\n",
        "    importances = rf_model.feature_importances_\n",
        "    indices = np.argsort(importances)[::-1]\n",
        "\n",
        "    # Print the feature importance scores\n",
        "    print(\"\\nFeature Importance Scores (Random Forest Regression):\")\n",
        "    for f in range(X_train.shape[1]):\n",
        "        print(\"%d. %s (%f)\" % (f + 1, X_train.columns[indices[f]], importances[indices[f]]))\n",
        "\n",
        "    # Plot the feature importance scores\n",
        "    plt.figure(figsize=(10, 6))\n",
        "    plt.bar(range(X_train.shape[1]), importances[indices], align='center')\n",
        "    plt.xticks(range(X_train.shape[1]), [X_train.columns[i] for i in indices], rotation=90)\n",
        "    plt.xlabel('Feature')\n",
        "    plt.ylabel('Importance')\n",
        "    plt.title('Feature Importance (Random Forest Regression)')\n",
        "    plt.show()"
      ],
      "metadata": {
        "colab": {
          "base_uri": "https://localhost:8080/",
          "height": 907
        },
        "id": "-4D3M0z2BUIG",
        "outputId": "ca5fb78f-a7cf-4d67-a5a8-b37aeb4e4194"
      },
      "execution_count": 12,
      "outputs": [
        {
          "output_type": "stream",
          "name": "stdout",
          "text": [
            "Results:\n",
            "                      Model  Mean Squared Error  R-squared\n",
            "0         Linear Regression           24.291119   0.668759\n",
            "1  Random Forest Regression            7.901514   0.892253\n",
            "\n",
            "Feature Importance Scores (Random Forest Regression):\n",
            "1. 5 (0.503845)\n",
            "2. 12 (0.309509)\n",
            "3. 7 (0.060549)\n",
            "4. 0 (0.038062)\n",
            "5. 10 (0.016313)\n",
            "6. 9 (0.015661)\n",
            "7. 4 (0.015544)\n",
            "8. 6 (0.013840)\n",
            "9. 11 (0.012154)\n",
            "10. 2 (0.007953)\n",
            "11. 8 (0.003811)\n",
            "12. 1 (0.001756)\n",
            "13. 3 (0.001004)\n"
          ]
        },
        {
          "output_type": "display_data",
          "data": {
            "text/plain": [
              "<Figure size 1000x600 with 1 Axes>"
            ],
            "image/png": "[encoded data removed]"
          },
          "metadata": {}
        }
      ]
    }
  ]
}